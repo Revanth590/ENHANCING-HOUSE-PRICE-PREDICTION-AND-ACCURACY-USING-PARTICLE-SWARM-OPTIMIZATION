{
 "cells": [
  {
   "cell_type": "code",
   "execution_count": 1,
   "metadata": {
    "_cell_guid": "b1076dfc-b9ad-4769-8c92-a6c4dae69d19",
    "_uuid": "8f2839f25d086af736a60e9eeb907d3b93b6e0e5",
    "execution": {
     "iopub.execute_input": "2020-09-22T09:17:50.677001Z",
     "iopub.status.busy": "2020-09-22T09:17:50.676175Z",
     "iopub.status.idle": "2020-09-22T09:17:52.834390Z",
     "shell.execute_reply": "2020-09-22T09:17:52.835019Z"
    },
    "papermill": {
     "duration": 2.199645,
     "end_time": "2020-09-22T09:17:52.835196",
     "exception": false,
     "start_time": "2020-09-22T09:17:50.635551",
     "status": "completed"
    },
    "tags": []
   },
   "outputs": [],
   "source": [
    "import numpy as np \n",
    "import pandas as pd \n",
    "from matplotlib import pyplot as plt\n",
    "%matplotlib inline\n",
    "import matplotlib \n",
    "matplotlib.rcParams[\"figure.figsize\"] = (20,10)\n",
    "import seaborn as sns\n",
    "from sklearn import preprocessing\n",
    "from sklearn import model_selection\n",
    "import sklearn\n",
    "import xgboost"
   ]
  },
  {
   "cell_type": "code",
   "execution_count": 2,
   "metadata": {
    "_cell_guid": "79c7e3d0-c299-4dcb-8224-4455121ee9b0",
    "_uuid": "d629ff2d2480ee46fbb7e2d37f6b5fab8052498a",
    "execution": {
     "iopub.execute_input": "2020-09-22T09:17:52.895537Z",
     "iopub.status.busy": "2020-09-22T09:17:52.894883Z",
     "iopub.status.idle": "2020-09-22T09:17:52.964951Z",
     "shell.execute_reply": "2020-09-22T09:17:52.964304Z"
    },
    "papermill": {
     "duration": 0.101331,
     "end_time": "2020-09-22T09:17:52.965077",
     "exception": false,
     "start_time": "2020-09-22T09:17:52.863746",
     "status": "completed"
    },
    "tags": []
   },
   "outputs": [
    {
     "data": {
      "text/html": [
       "<div>\n",
       "<style scoped>\n",
       "    .dataframe tbody tr th:only-of-type {\n",
       "        vertical-align: middle;\n",
       "    }\n",
       "\n",
       "    .dataframe tbody tr th {\n",
       "        vertical-align: top;\n",
       "    }\n",
       "\n",
       "    .dataframe thead th {\n",
       "        text-align: right;\n",
       "    }\n",
       "</style>\n",
       "<table border=\"1\" class=\"dataframe\">\n",
       "  <thead>\n",
       "    <tr style=\"text-align: right;\">\n",
       "      <th></th>\n",
       "      <th>area_type</th>\n",
       "      <th>availability</th>\n",
       "      <th>location</th>\n",
       "      <th>size</th>\n",
       "      <th>society</th>\n",
       "      <th>total_sqft</th>\n",
       "      <th>bath</th>\n",
       "      <th>balcony</th>\n",
       "      <th>price</th>\n",
       "    </tr>\n",
       "  </thead>\n",
       "  <tbody>\n",
       "    <tr>\n",
       "      <th>0</th>\n",
       "      <td>Super built-up  Area</td>\n",
       "      <td>19-Dec</td>\n",
       "      <td>Electronic City Phase II</td>\n",
       "      <td>2 BHK</td>\n",
       "      <td>Coomee</td>\n",
       "      <td>1056</td>\n",
       "      <td>2.0</td>\n",
       "      <td>1.0</td>\n",
       "      <td>39.07</td>\n",
       "    </tr>\n",
       "    <tr>\n",
       "      <th>1</th>\n",
       "      <td>Plot  Area</td>\n",
       "      <td>Ready To Move</td>\n",
       "      <td>Chikka Tirupathi</td>\n",
       "      <td>4 Bedroom</td>\n",
       "      <td>Theanmp</td>\n",
       "      <td>2600</td>\n",
       "      <td>5.0</td>\n",
       "      <td>3.0</td>\n",
       "      <td>120.00</td>\n",
       "    </tr>\n",
       "    <tr>\n",
       "      <th>2</th>\n",
       "      <td>Built-up  Area</td>\n",
       "      <td>Ready To Move</td>\n",
       "      <td>Uttarahalli</td>\n",
       "      <td>3 BHK</td>\n",
       "      <td>NaN</td>\n",
       "      <td>1440</td>\n",
       "      <td>2.0</td>\n",
       "      <td>3.0</td>\n",
       "      <td>62.00</td>\n",
       "    </tr>\n",
       "    <tr>\n",
       "      <th>3</th>\n",
       "      <td>Super built-up  Area</td>\n",
       "      <td>Ready To Move</td>\n",
       "      <td>Lingadheeranahalli</td>\n",
       "      <td>3 BHK</td>\n",
       "      <td>Soiewre</td>\n",
       "      <td>1521</td>\n",
       "      <td>3.0</td>\n",
       "      <td>1.0</td>\n",
       "      <td>95.00</td>\n",
       "    </tr>\n",
       "    <tr>\n",
       "      <th>4</th>\n",
       "      <td>Super built-up  Area</td>\n",
       "      <td>Ready To Move</td>\n",
       "      <td>Kothanur</td>\n",
       "      <td>2 BHK</td>\n",
       "      <td>NaN</td>\n",
       "      <td>1200</td>\n",
       "      <td>2.0</td>\n",
       "      <td>1.0</td>\n",
       "      <td>51.00</td>\n",
       "    </tr>\n",
       "  </tbody>\n",
       "</table>\n",
       "</div>"
      ],
      "text/plain": [
       "              area_type   availability                  location       size  \\\n",
       "0  Super built-up  Area         19-Dec  Electronic City Phase II      2 BHK   \n",
       "1            Plot  Area  Ready To Move          Chikka Tirupathi  4 Bedroom   \n",
       "2        Built-up  Area  Ready To Move               Uttarahalli      3 BHK   \n",
       "3  Super built-up  Area  Ready To Move        Lingadheeranahalli      3 BHK   \n",
       "4  Super built-up  Area  Ready To Move                  Kothanur      2 BHK   \n",
       "\n",
       "   society total_sqft  bath  balcony   price  \n",
       "0  Coomee        1056   2.0      1.0   39.07  \n",
       "1  Theanmp       2600   5.0      3.0  120.00  \n",
       "2      NaN       1440   2.0      3.0   62.00  \n",
       "3  Soiewre       1521   3.0      1.0   95.00  \n",
       "4      NaN       1200   2.0      1.0   51.00  "
      ]
     },
     "execution_count": 2,
     "metadata": {},
     "output_type": "execute_result"
    }
   ],
   "source": [
    "home = pd.read_csv(\"Bengaluru_House_Data.csv\")\n",
    "home.head()"
   ]
  },
  {
   "cell_type": "code",
   "execution_count": 3,
   "metadata": {
    "execution": {
     "iopub.execute_input": "2020-09-22T09:17:53.034952Z",
     "iopub.status.busy": "2020-09-22T09:17:53.033894Z",
     "iopub.status.idle": "2020-09-22T09:17:53.048830Z",
     "shell.execute_reply": "2020-09-22T09:17:53.048172Z"
    },
    "papermill": {
     "duration": 0.055479,
     "end_time": "2020-09-22T09:17:53.048988",
     "exception": false,
     "start_time": "2020-09-22T09:17:52.993509",
     "status": "completed"
    },
    "tags": []
   },
   "outputs": [
    {
     "name": "stdout",
     "output_type": "stream",
     "text": [
      "<class 'pandas.core.frame.DataFrame'>\n",
      "RangeIndex: 13320 entries, 0 to 13319\n",
      "Data columns (total 9 columns):\n",
      " #   Column        Non-Null Count  Dtype  \n",
      "---  ------        --------------  -----  \n",
      " 0   area_type     13320 non-null  object \n",
      " 1   availability  13320 non-null  object \n",
      " 2   location      13319 non-null  object \n",
      " 3   size          13304 non-null  object \n",
      " 4   society       7818 non-null   object \n",
      " 5   total_sqft    13320 non-null  object \n",
      " 6   bath          13247 non-null  float64\n",
      " 7   balcony       12711 non-null  float64\n",
      " 8   price         13320 non-null  float64\n",
      "dtypes: float64(3), object(6)\n",
      "memory usage: 936.7+ KB\n"
     ]
    }
   ],
   "source": [
    "home.info()"
   ]
  },
  {
   "cell_type": "markdown",
   "metadata": {
    "papermill": {
     "duration": 0.025129,
     "end_time": "2020-09-22T09:17:53.100781",
     "exception": false,
     "start_time": "2020-09-22T09:17:53.075652",
     "status": "completed"
    },
    "tags": []
   },
   "source": [
    "## Data Preprocessing!"
   ]
  },
  {
   "cell_type": "code",
   "execution_count": 4,
   "metadata": {
    "execution": {
     "iopub.execute_input": "2020-09-22T09:17:53.167252Z",
     "iopub.status.busy": "2020-09-22T09:17:53.157482Z",
     "iopub.status.idle": "2020-09-22T09:17:53.175335Z",
     "shell.execute_reply": "2020-09-22T09:17:53.175829Z"
    },
    "papermill": {
     "duration": 0.049472,
     "end_time": "2020-09-22T09:17:53.175996",
     "exception": false,
     "start_time": "2020-09-22T09:17:53.126524",
     "status": "completed"
    },
    "tags": []
   },
   "outputs": [
    {
     "data": {
      "text/plain": [
       "area_type        0.00\n",
       "availability     0.00\n",
       "location         0.01\n",
       "size             0.12\n",
       "society         41.31\n",
       "total_sqft       0.00\n",
       "bath             0.55\n",
       "balcony          4.57\n",
       "price            0.00\n",
       "dtype: float64"
      ]
     },
     "execution_count": 4,
     "metadata": {},
     "output_type": "execute_result"
    }
   ],
   "source": [
    "## finding null values in %form\n",
    "\n",
    "round(100*(home.isnull().sum()/len(home.index)),2)"
   ]
  },
  {
   "cell_type": "code",
   "execution_count": 5,
   "metadata": {
    "execution": {
     "iopub.execute_input": "2020-09-22T09:17:53.234268Z",
     "iopub.status.busy": "2020-09-22T09:17:53.233190Z",
     "iopub.status.idle": "2020-09-22T09:17:53.252436Z",
     "shell.execute_reply": "2020-09-22T09:17:53.251737Z"
    },
    "papermill": {
     "duration": 0.049748,
     "end_time": "2020-09-22T09:17:53.252607",
     "exception": false,
     "start_time": "2020-09-22T09:17:53.202859",
     "status": "completed"
    },
    "tags": []
   },
   "outputs": [],
   "source": [
    "#removing NaN values from the dataset\n",
    "home.dropna(inplace =True)"
   ]
  },
  {
   "cell_type": "code",
   "execution_count": 6,
   "metadata": {
    "execution": {
     "iopub.execute_input": "2020-09-22T09:17:53.314984Z",
     "iopub.status.busy": "2020-09-22T09:17:53.314295Z",
     "iopub.status.idle": "2020-09-22T09:17:53.320281Z",
     "shell.execute_reply": "2020-09-22T09:17:53.319666Z"
    },
    "papermill": {
     "duration": 0.041568,
     "end_time": "2020-09-22T09:17:53.320396",
     "exception": false,
     "start_time": "2020-09-22T09:17:53.278828",
     "status": "completed"
    },
    "tags": []
   },
   "outputs": [],
   "source": [
    "home = home.drop(columns='society')"
   ]
  },
  {
   "cell_type": "code",
   "execution_count": 7,
   "metadata": {
    "execution": {
     "iopub.execute_input": "2020-09-22T09:17:53.383912Z",
     "iopub.status.busy": "2020-09-22T09:17:53.382865Z",
     "iopub.status.idle": "2020-09-22T09:17:53.387686Z",
     "shell.execute_reply": "2020-09-22T09:17:53.388227Z"
    },
    "papermill": {
     "duration": 0.041126,
     "end_time": "2020-09-22T09:17:53.388376",
     "exception": false,
     "start_time": "2020-09-22T09:17:53.347250",
     "status": "completed"
    },
    "tags": []
   },
   "outputs": [],
   "source": [
    "home.reset_index(drop= True, inplace =True)"
   ]
  },
  {
   "cell_type": "code",
   "execution_count": 8,
   "metadata": {
    "execution": {
     "iopub.execute_input": "2020-09-22T09:17:53.445477Z",
     "iopub.status.busy": "2020-09-22T09:17:53.444550Z",
     "iopub.status.idle": "2020-09-22T09:17:53.470148Z",
     "shell.execute_reply": "2020-09-22T09:17:53.470772Z"
    },
    "papermill": {
     "duration": 0.055944,
     "end_time": "2020-09-22T09:17:53.470935",
     "exception": false,
     "start_time": "2020-09-22T09:17:53.414991",
     "status": "completed"
    },
    "tags": []
   },
   "outputs": [],
   "source": [
    "home['bhk'] = home['size'].str.split().str[0]\n",
    "home['bhk'].dropna(inplace = True)\n",
    "home['bhk'] = home['bhk'].astype('int')"
   ]
  },
  {
   "cell_type": "code",
   "execution_count": 9,
   "metadata": {
    "execution": {
     "iopub.execute_input": "2020-09-22T09:17:53.536000Z",
     "iopub.status.busy": "2020-09-22T09:17:53.535068Z",
     "iopub.status.idle": "2020-09-22T09:17:53.538677Z",
     "shell.execute_reply": "2020-09-22T09:17:53.539277Z"
    },
    "papermill": {
     "duration": 0.040813,
     "end_time": "2020-09-22T09:17:53.539429",
     "exception": false,
     "start_time": "2020-09-22T09:17:53.498616",
     "status": "completed"
    },
    "tags": []
   },
   "outputs": [
    {
     "name": "stdout",
     "output_type": "stream",
     "text": [
      "17    2100 - 2850\n",
      "Name: total_sqft, dtype: object\n"
     ]
    }
   ],
   "source": [
    "print(home['total_sqft'].iloc[[17]])\n",
    "\n",
    "## fucntion to remove 2100 - 2850 by taking there average\n",
    "def convert_sqft_to_num(x):\n",
    "    tokens = x.split('-')\n",
    "    if len(tokens) == 2:\n",
    "        return (float(tokens[0])+float(tokens[1]))/2\n",
    "    try:\n",
    "        return float(x)\n",
    "    except:\n",
    "        return None"
   ]
  },
  {
   "cell_type": "code",
   "execution_count": 10,
   "metadata": {
    "execution": {
     "iopub.execute_input": "2020-09-22T09:17:53.608026Z",
     "iopub.status.busy": "2020-09-22T09:17:53.607312Z",
     "iopub.status.idle": "2020-09-22T09:17:53.624251Z",
     "shell.execute_reply": "2020-09-22T09:17:53.624754Z"
    },
    "papermill": {
     "duration": 0.057722,
     "end_time": "2020-09-22T09:17:53.624915",
     "exception": false,
     "start_time": "2020-09-22T09:17:53.567193",
     "status": "completed"
    },
    "tags": []
   },
   "outputs": [
    {
     "data": {
      "text/html": [
       "<div>\n",
       "<style scoped>\n",
       "    .dataframe tbody tr th:only-of-type {\n",
       "        vertical-align: middle;\n",
       "    }\n",
       "\n",
       "    .dataframe tbody tr th {\n",
       "        vertical-align: top;\n",
       "    }\n",
       "\n",
       "    .dataframe thead th {\n",
       "        text-align: right;\n",
       "    }\n",
       "</style>\n",
       "<table border=\"1\" class=\"dataframe\">\n",
       "  <thead>\n",
       "    <tr style=\"text-align: right;\">\n",
       "      <th></th>\n",
       "      <th>area_type</th>\n",
       "      <th>availability</th>\n",
       "      <th>location</th>\n",
       "      <th>size</th>\n",
       "      <th>total_sqft</th>\n",
       "      <th>bath</th>\n",
       "      <th>balcony</th>\n",
       "      <th>price</th>\n",
       "      <th>bhk</th>\n",
       "    </tr>\n",
       "  </thead>\n",
       "  <tbody>\n",
       "    <tr>\n",
       "      <th>0</th>\n",
       "      <td>Super built-up  Area</td>\n",
       "      <td>19-Dec</td>\n",
       "      <td>Electronic City Phase II</td>\n",
       "      <td>2 BHK</td>\n",
       "      <td>1056.0</td>\n",
       "      <td>2.0</td>\n",
       "      <td>1.0</td>\n",
       "      <td>39.07</td>\n",
       "      <td>2</td>\n",
       "    </tr>\n",
       "    <tr>\n",
       "      <th>1</th>\n",
       "      <td>Plot  Area</td>\n",
       "      <td>Ready To Move</td>\n",
       "      <td>Chikka Tirupathi</td>\n",
       "      <td>4 Bedroom</td>\n",
       "      <td>2600.0</td>\n",
       "      <td>5.0</td>\n",
       "      <td>3.0</td>\n",
       "      <td>120.00</td>\n",
       "      <td>4</td>\n",
       "    </tr>\n",
       "  </tbody>\n",
       "</table>\n",
       "</div>"
      ],
      "text/plain": [
       "              area_type   availability                  location       size  \\\n",
       "0  Super built-up  Area         19-Dec  Electronic City Phase II      2 BHK   \n",
       "1            Plot  Area  Ready To Move          Chikka Tirupathi  4 Bedroom   \n",
       "\n",
       "   total_sqft  bath  balcony   price  bhk  \n",
       "0      1056.0   2.0      1.0   39.07    2  \n",
       "1      2600.0   5.0      3.0  120.00    4  "
      ]
     },
     "execution_count": 10,
     "metadata": {},
     "output_type": "execute_result"
    }
   ],
   "source": [
    "## applying the fucntion to the column: - 'total_sqft'\n",
    "home.total_sqft = home.total_sqft.apply(convert_sqft_to_num)\n",
    "# Taking only the Numeric values from the data and storing it in 'home'\n",
    "home = home[home.total_sqft.notnull()]\n",
    "# display the first 2 columns from the dataset\n",
    "home.head(2)"
   ]
  },
  {
   "cell_type": "code",
   "execution_count": 11,
   "metadata": {
    "execution": {
     "iopub.execute_input": "2020-09-22T09:17:53.685217Z",
     "iopub.status.busy": "2020-09-22T09:17:53.684527Z",
     "iopub.status.idle": "2020-09-22T09:17:53.693133Z",
     "shell.execute_reply": "2020-09-22T09:17:53.693897Z"
    },
    "papermill": {
     "duration": 0.040905,
     "end_time": "2020-09-22T09:17:53.694058",
     "exception": false,
     "start_time": "2020-09-22T09:17:53.653153",
     "status": "completed"
    },
    "tags": []
   },
   "outputs": [
    {
     "data": {
      "text/plain": [
       "(7478, 9)"
      ]
     },
     "execution_count": 11,
     "metadata": {},
     "output_type": "execute_result"
    }
   ],
   "source": [
    "##removing invalid data entry\n",
    "## Example: The total sqft divided by the number of bhk should always be more than 300\n",
    "\n",
    "home = home[~(home.total_sqft/home.bhk<200)]\n",
    "home.shape"
   ]
  },
  {
   "cell_type": "code",
   "execution_count": 12,
   "metadata": {
    "execution": {
     "iopub.execute_input": "2020-09-22T09:17:53.755406Z",
     "iopub.status.busy": "2020-09-22T09:17:53.754308Z",
     "iopub.status.idle": "2020-09-22T09:17:53.763315Z",
     "shell.execute_reply": "2020-09-22T09:17:53.763928Z"
    },
    "papermill": {
     "duration": 0.041575,
     "end_time": "2020-09-22T09:17:53.764080",
     "exception": false,
     "start_time": "2020-09-22T09:17:53.722505",
     "status": "completed"
    },
    "tags": []
   },
   "outputs": [],
   "source": [
    "## dividing the dataset into Continous and Categorical variables:\n",
    "cont_ = home.select_dtypes(exclude = 'object')\n",
    "cat_ = home.select_dtypes(include  = 'object')"
   ]
  },
  {
   "cell_type": "code",
   "execution_count": 13,
   "metadata": {
    "execution": {
     "iopub.execute_input": "2020-09-22T09:17:53.825268Z",
     "iopub.status.busy": "2020-09-22T09:17:53.824232Z",
     "iopub.status.idle": "2020-09-22T09:17:54.557381Z",
     "shell.execute_reply": "2020-09-22T09:17:54.557934Z"
    },
    "papermill": {
     "duration": 0.765679,
     "end_time": "2020-09-22T09:17:54.558100",
     "exception": false,
     "start_time": "2020-09-22T09:17:53.792421",
     "status": "completed"
    },
    "tags": []
   },
   "outputs": [
    {
     "data": {
      "image/png": "[encoded data removed]",
      "text/plain": [
       "<Figure size 720x576 with 5 Axes>"
      ]
     },
     "metadata": {
      "needs_background": "light"
     },
     "output_type": "display_data"
    }
   ],
   "source": [
    "## displaying only the continous variables from the dataset\n",
    "## to determine the variables which have outliers and those which needs to be removed\n",
    "fig = plt.figure(figsize = (10,8))\n",
    "for index,col in enumerate(cont_):\n",
    "    plt.subplot(3,2,index+1)\n",
    "    sns.boxplot(y = cont_.loc[:,col])\n",
    "fig.tight_layout(pad = 1.0)"
   ]
  },
  {
   "cell_type": "code",
   "execution_count": 14,
   "metadata": {
    "execution": {
     "iopub.execute_input": "2020-09-22T09:17:54.627748Z",
     "iopub.status.busy": "2020-09-22T09:17:54.626863Z",
     "iopub.status.idle": "2020-09-22T09:17:54.636432Z",
     "shell.execute_reply": "2020-09-22T09:17:54.635833Z"
    },
    "papermill": {
     "duration": 0.047343,
     "end_time": "2020-09-22T09:17:54.636549",
     "exception": false,
     "start_time": "2020-09-22T09:17:54.589206",
     "status": "completed"
    },
    "tags": []
   },
   "outputs": [],
   "source": [
    "home = home.drop(home[home['bath']>6].index)\n",
    "home = home.drop(home[home['bhk']>7.0].index)"
   ]
  },
  {
   "cell_type": "code",
   "execution_count": 15,
   "metadata": {
    "execution": {
     "iopub.execute_input": "2020-09-22T09:17:54.716509Z",
     "iopub.status.busy": "2020-09-22T09:17:54.709076Z",
     "iopub.status.idle": "2020-09-22T09:17:54.721262Z",
     "shell.execute_reply": "2020-09-22T09:17:54.721828Z"
    },
    "papermill": {
     "duration": 0.055235,
     "end_time": "2020-09-22T09:17:54.721993",
     "exception": false,
     "start_time": "2020-09-22T09:17:54.666758",
     "status": "completed"
    },
    "tags": []
   },
   "outputs": [
    {
     "data": {
      "text/html": [
       "<div>\n",
       "<style scoped>\n",
       "    .dataframe tbody tr th:only-of-type {\n",
       "        vertical-align: middle;\n",
       "    }\n",
       "\n",
       "    .dataframe tbody tr th {\n",
       "        vertical-align: top;\n",
       "    }\n",
       "\n",
       "    .dataframe thead th {\n",
       "        text-align: right;\n",
       "    }\n",
       "</style>\n",
       "<table border=\"1\" class=\"dataframe\">\n",
       "  <thead>\n",
       "    <tr style=\"text-align: right;\">\n",
       "      <th></th>\n",
       "      <th>area_type</th>\n",
       "      <th>availability</th>\n",
       "      <th>location</th>\n",
       "      <th>size</th>\n",
       "      <th>total_sqft</th>\n",
       "      <th>bath</th>\n",
       "      <th>balcony</th>\n",
       "      <th>price</th>\n",
       "      <th>bhk</th>\n",
       "      <th>price_per_sqft</th>\n",
       "    </tr>\n",
       "  </thead>\n",
       "  <tbody>\n",
       "    <tr>\n",
       "      <th>0</th>\n",
       "      <td>Super built-up  Area</td>\n",
       "      <td>19-Dec</td>\n",
       "      <td>Electronic City Phase II</td>\n",
       "      <td>2 BHK</td>\n",
       "      <td>1056.0</td>\n",
       "      <td>2.0</td>\n",
       "      <td>1.0</td>\n",
       "      <td>39.07</td>\n",
       "      <td>2</td>\n",
       "      <td>3699.810606</td>\n",
       "    </tr>\n",
       "    <tr>\n",
       "      <th>1</th>\n",
       "      <td>Plot  Area</td>\n",
       "      <td>Ready To Move</td>\n",
       "      <td>Chikka Tirupathi</td>\n",
       "      <td>4 Bedroom</td>\n",
       "      <td>2600.0</td>\n",
       "      <td>5.0</td>\n",
       "      <td>3.0</td>\n",
       "      <td>120.00</td>\n",
       "      <td>4</td>\n",
       "      <td>4615.384615</td>\n",
       "    </tr>\n",
       "    <tr>\n",
       "      <th>2</th>\n",
       "      <td>Super built-up  Area</td>\n",
       "      <td>Ready To Move</td>\n",
       "      <td>Lingadheeranahalli</td>\n",
       "      <td>3 BHK</td>\n",
       "      <td>1521.0</td>\n",
       "      <td>3.0</td>\n",
       "      <td>1.0</td>\n",
       "      <td>95.00</td>\n",
       "      <td>3</td>\n",
       "      <td>6245.890861</td>\n",
       "    </tr>\n",
       "    <tr>\n",
       "      <th>3</th>\n",
       "      <td>Super built-up  Area</td>\n",
       "      <td>Ready To Move</td>\n",
       "      <td>Whitefield</td>\n",
       "      <td>2 BHK</td>\n",
       "      <td>1170.0</td>\n",
       "      <td>2.0</td>\n",
       "      <td>1.0</td>\n",
       "      <td>38.00</td>\n",
       "      <td>2</td>\n",
       "      <td>3247.863248</td>\n",
       "    </tr>\n",
       "    <tr>\n",
       "      <th>4</th>\n",
       "      <td>Plot  Area</td>\n",
       "      <td>Ready To Move</td>\n",
       "      <td>Whitefield</td>\n",
       "      <td>4 Bedroom</td>\n",
       "      <td>2785.0</td>\n",
       "      <td>5.0</td>\n",
       "      <td>3.0</td>\n",
       "      <td>295.00</td>\n",
       "      <td>4</td>\n",
       "      <td>10592.459605</td>\n",
       "    </tr>\n",
       "  </tbody>\n",
       "</table>\n",
       "</div>"
      ],
      "text/plain": [
       "              area_type   availability                  location       size  \\\n",
       "0  Super built-up  Area         19-Dec  Electronic City Phase II      2 BHK   \n",
       "1            Plot  Area  Ready To Move          Chikka Tirupathi  4 Bedroom   \n",
       "2  Super built-up  Area  Ready To Move        Lingadheeranahalli      3 BHK   \n",
       "3  Super built-up  Area  Ready To Move                Whitefield      2 BHK   \n",
       "4            Plot  Area  Ready To Move                Whitefield  4 Bedroom   \n",
       "\n",
       "   total_sqft  bath  balcony   price  bhk  price_per_sqft  \n",
       "0      1056.0   2.0      1.0   39.07    2     3699.810606  \n",
       "1      2600.0   5.0      3.0  120.00    4     4615.384615  \n",
       "2      1521.0   3.0      1.0   95.00    3     6245.890861  \n",
       "3      1170.0   2.0      1.0   38.00    2     3247.863248  \n",
       "4      2785.0   5.0      3.0  295.00    4    10592.459605  "
      ]
     },
     "execution_count": 15,
     "metadata": {},
     "output_type": "execute_result"
    }
   ],
   "source": [
    "## Feature Engineering step\n",
    "home['price_per_sqft'] = home['price']*100000/home['total_sqft']\n",
    "home.head()"
   ]
  },
  {
   "cell_type": "code",
   "execution_count": 16,
   "metadata": {
    "execution": {
     "iopub.execute_input": "2020-09-22T09:17:54.791867Z",
     "iopub.status.busy": "2020-09-22T09:17:54.790496Z",
     "iopub.status.idle": "2020-09-22T09:17:54.801961Z",
     "shell.execute_reply": "2020-09-22T09:17:54.802517Z"
    },
    "papermill": {
     "duration": 0.048348,
     "end_time": "2020-09-22T09:17:54.802689",
     "exception": false,
     "start_time": "2020-09-22T09:17:54.754341",
     "status": "completed"
    },
    "tags": []
   },
   "outputs": [
    {
     "data": {
      "text/plain": [
       "count     7471.000000\n",
       "mean      5853.051952\n",
       "std       2720.468727\n",
       "min        371.428571\n",
       "25%       4277.681409\n",
       "50%       5315.315315\n",
       "75%       6693.387739\n",
       "max      76530.612245\n",
       "Name: price_per_sqft, dtype: float64"
      ]
     },
     "execution_count": 16,
     "metadata": {},
     "output_type": "execute_result"
    }
   ],
   "source": [
    "home['price_per_sqft'].describe()"
   ]
  },
  {
   "cell_type": "code",
   "execution_count": 17,
   "metadata": {
    "execution": {
     "iopub.execute_input": "2020-09-22T09:17:54.880106Z",
     "iopub.status.busy": "2020-09-22T09:17:54.879046Z",
     "iopub.status.idle": "2020-09-22T09:17:56.878025Z",
     "shell.execute_reply": "2020-09-22T09:17:56.877463Z"
    },
    "papermill": {
     "duration": 2.042775,
     "end_time": "2020-09-22T09:17:56.878149",
     "exception": false,
     "start_time": "2020-09-22T09:17:54.835374",
     "status": "completed"
    },
    "tags": []
   },
   "outputs": [
    {
     "data": {
      "text/plain": [
       "(5389, 10)"
      ]
     },
     "execution_count": 17,
     "metadata": {},
     "output_type": "execute_result"
    }
   ],
   "source": [
    "## taking only the values with 1st Standard devaition values.\n",
    "## as per Normal Distribution, 95% of our data lies within 1st Standard Deviation as per the location\n",
    "\n",
    "def remove_pps_outliers(df):\n",
    "    df_out = pd.DataFrame()\n",
    "    for key, subdf in df.groupby('location'):\n",
    "        m = np.mean(subdf.price_per_sqft)\n",
    "        st = np.std(subdf.price_per_sqft)\n",
    "        reduced_df = subdf[(subdf.price_per_sqft>(m-st)) & (subdf.price_per_sqft<=(m+st))]\n",
    "        df_out = pd.concat([df_out,reduced_df],ignore_index=True)\n",
    "    return df_out\n",
    "home = remove_pps_outliers(home)\n",
    "home.shape"
   ]
  },
  {
   "cell_type": "code",
   "execution_count": 18,
   "metadata": {
    "execution": {
     "iopub.execute_input": "2020-09-22T09:17:56.950131Z",
     "iopub.status.busy": "2020-09-22T09:17:56.949338Z",
     "iopub.status.idle": "2020-09-22T09:17:57.232001Z",
     "shell.execute_reply": "2020-09-22T09:17:57.232532Z"
    },
    "papermill": {
     "duration": 0.322486,
     "end_time": "2020-09-22T09:17:57.232725",
     "exception": false,
     "start_time": "2020-09-22T09:17:56.910239",
     "status": "completed"
    },
    "tags": []
   },
   "outputs": [
    {
     "data": {
      "text/plain": [
       "<AxesSubplot:>"
      ]
     },
     "execution_count": 18,
     "metadata": {},
     "output_type": "execute_result"
    },
    {
     "data": {
      "image/png": "[encoded data removed]",
      "text/plain": [
       "<Figure size 720x576 with 2 Axes>"
      ]
     },
     "metadata": {
      "needs_background": "light"
     },
     "output_type": "display_data"
    }
   ],
   "source": [
    "## finding correlation values within the dataset\n",
    "## we remove features which are highly related to each other as they do not provide\n",
    "## any significance value to our Model\n",
    "\n",
    "corr = home.corr()\n",
    "plt.figure(figsize = (10,8))\n",
    "sns.heatmap(corr,mask = corr<0.8 ,annot= True,cmap = 'Blues')"
   ]
  },
  {
   "cell_type": "code",
   "execution_count": 19,
   "metadata": {
    "execution": {
     "iopub.execute_input": "2020-09-22T09:17:57.304348Z",
     "iopub.status.busy": "2020-09-22T09:17:57.303312Z",
     "iopub.status.idle": "2020-09-22T09:17:57.309397Z",
     "shell.execute_reply": "2020-09-22T09:17:57.309888Z"
    },
    "papermill": {
     "duration": 0.04227,
     "end_time": "2020-09-22T09:17:57.310041",
     "exception": false,
     "start_time": "2020-09-22T09:17:57.267771",
     "status": "completed"
    },
    "tags": []
   },
   "outputs": [],
   "source": [
    "home.drop(columns=['availability','size','area_type'],inplace = True)"
   ]
  },
  {
   "cell_type": "code",
   "execution_count": 20,
   "metadata": {
    "execution": {
     "iopub.execute_input": "2020-09-22T09:17:57.385430Z",
     "iopub.status.busy": "2020-09-22T09:17:57.384749Z",
     "iopub.status.idle": "2020-09-22T09:17:57.396271Z",
     "shell.execute_reply": "2020-09-22T09:17:57.397001Z"
    },
    "papermill": {
     "duration": 0.053907,
     "end_time": "2020-09-22T09:17:57.397187",
     "exception": false,
     "start_time": "2020-09-22T09:17:57.343280",
     "status": "completed"
    },
    "tags": []
   },
   "outputs": [
    {
     "data": {
      "text/plain": [
       "Whitefield              357\n",
       "Sarjapur  Road          240\n",
       "Electronic City         225\n",
       "Kanakpura Road          157\n",
       "Thanisandra             141\n",
       "                       ... \n",
       "Green Garden Layout       1\n",
       "Poorna Pragna Layout      1\n",
       "Mahalakshmi Layout        1\n",
       "Doddanekundi              1\n",
       "Hiremath Layout           1\n",
       "Name: location, Length: 430, dtype: int64"
      ]
     },
     "execution_count": 20,
     "metadata": {},
     "output_type": "execute_result"
    }
   ],
   "source": [
    "## checking the dataset with highest location data provided\n",
    "## because havind values for a location less than 10 wont give us good information on the dataset\n",
    "\n",
    "home.location = home.location.str.strip()\n",
    "location_stats = home['location'].value_counts(ascending=False)\n",
    "location_stats"
   ]
  },
  {
   "cell_type": "code",
   "execution_count": 21,
   "metadata": {
    "execution": {
     "iopub.execute_input": "2020-09-22T09:17:57.469510Z",
     "iopub.status.busy": "2020-09-22T09:17:57.468526Z",
     "iopub.status.idle": "2020-09-22T09:17:57.478674Z",
     "shell.execute_reply": "2020-09-22T09:17:57.479212Z"
    },
    "papermill": {
     "duration": 0.048311,
     "end_time": "2020-09-22T09:17:57.479367",
     "exception": false,
     "start_time": "2020-09-22T09:17:57.431056",
     "status": "completed"
    },
    "tags": []
   },
   "outputs": [
    {
     "data": {
      "text/plain": [
       "Gubbalala               10\n",
       "Neeladri Nagar          10\n",
       "Seegehalli              10\n",
       "Munnekollal             10\n",
       "Anandapura              10\n",
       "                        ..\n",
       "Green Garden Layout      1\n",
       "Poorna Pragna Layout     1\n",
       "Mahalakshmi Layout       1\n",
       "Doddanekundi             1\n",
       "Hiremath Layout          1\n",
       "Name: location, Length: 319, dtype: int64"
      ]
     },
     "execution_count": 21,
     "metadata": {},
     "output_type": "execute_result"
    }
   ],
   "source": [
    "## cretaing a Series of all the location having less than 10 entries against its  \n",
    "location_stats_less_than_10 = location_stats[location_stats<=10]\n",
    "location_stats_less_than_10"
   ]
  },
  {
   "cell_type": "code",
   "execution_count": 22,
   "metadata": {
    "execution": {
     "iopub.execute_input": "2020-09-22T09:17:57.553173Z",
     "iopub.status.busy": "2020-09-22T09:17:57.552103Z",
     "iopub.status.idle": "2020-09-22T09:17:57.569202Z",
     "shell.execute_reply": "2020-09-22T09:17:57.569704Z"
    },
    "papermill": {
     "duration": 0.055061,
     "end_time": "2020-09-22T09:17:57.569868",
     "exception": false,
     "start_time": "2020-09-22T09:17:57.514807",
     "status": "completed"
    },
    "tags": []
   },
   "outputs": [],
   "source": [
    "## using lambda function to naming 'location_stats_less_than_10' as 'other' and then removing it\n",
    "\n",
    "home.location = home.location.apply(lambda x: 'other' if x in location_stats_less_than_10 else x)\n",
    "\n",
    "home = home[home.location != 'other']"
   ]
  },
  {
   "cell_type": "code",
   "execution_count": 23,
   "metadata": {
    "execution": {
     "iopub.execute_input": "2020-09-22T09:17:57.643269Z",
     "iopub.status.busy": "2020-09-22T09:17:57.642242Z",
     "iopub.status.idle": "2020-09-22T09:17:57.648511Z",
     "shell.execute_reply": "2020-09-22T09:17:57.649045Z"
    },
    "papermill": {
     "duration": 0.044262,
     "end_time": "2020-09-22T09:17:57.649204",
     "exception": false,
     "start_time": "2020-09-22T09:17:57.604942",
     "status": "completed"
    },
    "tags": []
   },
   "outputs": [],
   "source": [
    "## Keeping in mind that the number of Bathroom shouldn't be more than BHK+2\n",
    "## Example for a 3 bhk, the number of bathrooms shouldn't be more than 5\n",
    "\n",
    "home = home[home.bath<home.bhk+2]"
   ]
  },
  {
   "cell_type": "code",
   "execution_count": 24,
   "metadata": {
    "execution": {
     "iopub.execute_input": "2020-09-22T09:17:57.733626Z",
     "iopub.status.busy": "2020-09-22T09:17:57.732856Z",
     "iopub.status.idle": "2020-09-22T09:17:59.482798Z",
     "shell.execute_reply": "2020-09-22T09:17:59.482060Z"
    },
    "papermill": {
     "duration": 1.799945,
     "end_time": "2020-09-22T09:17:59.482918",
     "exception": false,
     "start_time": "2020-09-22T09:17:57.682973",
     "status": "completed"
    },
    "tags": []
   },
   "outputs": [
    {
     "name": "stderr",
     "output_type": "stream",
     "text": [
      "c:\\users\\user\\appdata\\local\\programs\\python\\python36\\lib\\site-packages\\seaborn\\distributions.py:2551: FutureWarning: `distplot` is a deprecated function and will be removed in a future version. Please adapt your code to use either `displot` (a figure-level function with similar flexibility) or `histplot` (an axes-level function for histograms).\n",
      "  warnings.warn(msg, FutureWarning)\n"
     ]
    },
    {
     "data": {
      "image/png": "[encoded data removed]",
      "text/plain": [
       "<Figure size 720x576 with 6 Axes>"
      ]
     },
     "metadata": {
      "needs_background": "light"
     },
     "output_type": "display_data"
    }
   ],
   "source": [
    "## representing Numerical Data and Visualizing the same usin Distplot to gain further info\n",
    "\n",
    "num_ = home.select_dtypes(exclude = 'object')\n",
    "fig = plt.figure(figsize =(10,8))\n",
    "for index, col in enumerate(num_):\n",
    "    plt.subplot(3,2,index+1)\n",
    "    sns.distplot(num_.loc[:,col],kde = False)\n",
    "fig.tight_layout(pad = 1.0)"
   ]
  },
  {
   "cell_type": "code",
   "execution_count": 25,
   "metadata": {
    "execution": {
     "iopub.execute_input": "2020-09-22T09:17:59.563973Z",
     "iopub.status.busy": "2020-09-22T09:17:59.563220Z",
     "iopub.status.idle": "2020-09-22T09:17:59.585300Z",
     "shell.execute_reply": "2020-09-22T09:17:59.584417Z"
    },
    "papermill": {
     "duration": 0.066751,
     "end_time": "2020-09-22T09:17:59.585449",
     "exception": false,
     "start_time": "2020-09-22T09:17:59.518698",
     "status": "completed"
    },
    "tags": []
   },
   "outputs": [
    {
     "data": {
      "text/html": [
       "<div>\n",
       "<style scoped>\n",
       "    .dataframe tbody tr th:only-of-type {\n",
       "        vertical-align: middle;\n",
       "    }\n",
       "\n",
       "    .dataframe tbody tr th {\n",
       "        vertical-align: top;\n",
       "    }\n",
       "\n",
       "    .dataframe thead th {\n",
       "        text-align: right;\n",
       "    }\n",
       "</style>\n",
       "<table border=\"1\" class=\"dataframe\">\n",
       "  <thead>\n",
       "    <tr style=\"text-align: right;\">\n",
       "      <th></th>\n",
       "      <th>7th Phase JP Nagar</th>\n",
       "      <th>8th Phase JP Nagar</th>\n",
       "      <th>9th Phase JP Nagar</th>\n",
       "      <th>Abbigere</th>\n",
       "      <th>Akshaya Nagar</th>\n",
       "      <th>Ambalipura</th>\n",
       "      <th>Ambedkar Nagar</th>\n",
       "      <th>Ardendale</th>\n",
       "      <th>Attibele</th>\n",
       "      <th>BTM 2nd Stage</th>\n",
       "      <th>...</th>\n",
       "      <th>Thubarahalli</th>\n",
       "      <th>Tumkur Road</th>\n",
       "      <th>Uttarahalli</th>\n",
       "      <th>Varthur</th>\n",
       "      <th>Vijayanagar</th>\n",
       "      <th>Vittasandra</th>\n",
       "      <th>Whitefield</th>\n",
       "      <th>Yelahanka</th>\n",
       "      <th>Yelahanka New Town</th>\n",
       "      <th>Yeshwanthpur</th>\n",
       "    </tr>\n",
       "  </thead>\n",
       "  <tbody>\n",
       "    <tr>\n",
       "      <th>8</th>\n",
       "      <td>0</td>\n",
       "      <td>0</td>\n",
       "      <td>0</td>\n",
       "      <td>0</td>\n",
       "      <td>0</td>\n",
       "      <td>0</td>\n",
       "      <td>0</td>\n",
       "      <td>0</td>\n",
       "      <td>0</td>\n",
       "      <td>0</td>\n",
       "      <td>...</td>\n",
       "      <td>0</td>\n",
       "      <td>0</td>\n",
       "      <td>0</td>\n",
       "      <td>0</td>\n",
       "      <td>0</td>\n",
       "      <td>0</td>\n",
       "      <td>0</td>\n",
       "      <td>0</td>\n",
       "      <td>0</td>\n",
       "      <td>0</td>\n",
       "    </tr>\n",
       "    <tr>\n",
       "      <th>9</th>\n",
       "      <td>0</td>\n",
       "      <td>0</td>\n",
       "      <td>0</td>\n",
       "      <td>0</td>\n",
       "      <td>0</td>\n",
       "      <td>0</td>\n",
       "      <td>0</td>\n",
       "      <td>0</td>\n",
       "      <td>0</td>\n",
       "      <td>0</td>\n",
       "      <td>...</td>\n",
       "      <td>0</td>\n",
       "      <td>0</td>\n",
       "      <td>0</td>\n",
       "      <td>0</td>\n",
       "      <td>0</td>\n",
       "      <td>0</td>\n",
       "      <td>0</td>\n",
       "      <td>0</td>\n",
       "      <td>0</td>\n",
       "      <td>0</td>\n",
       "    </tr>\n",
       "    <tr>\n",
       "      <th>10</th>\n",
       "      <td>0</td>\n",
       "      <td>0</td>\n",
       "      <td>0</td>\n",
       "      <td>0</td>\n",
       "      <td>0</td>\n",
       "      <td>0</td>\n",
       "      <td>0</td>\n",
       "      <td>0</td>\n",
       "      <td>0</td>\n",
       "      <td>0</td>\n",
       "      <td>...</td>\n",
       "      <td>0</td>\n",
       "      <td>0</td>\n",
       "      <td>0</td>\n",
       "      <td>0</td>\n",
       "      <td>0</td>\n",
       "      <td>0</td>\n",
       "      <td>0</td>\n",
       "      <td>0</td>\n",
       "      <td>0</td>\n",
       "      <td>0</td>\n",
       "    </tr>\n",
       "  </tbody>\n",
       "</table>\n",
       "<p>3 rows × 111 columns</p>\n",
       "</div>"
      ],
      "text/plain": [
       "    7th Phase JP Nagar  8th Phase JP Nagar  9th Phase JP Nagar  Abbigere  \\\n",
       "8                    0                   0                   0         0   \n",
       "9                    0                   0                   0         0   \n",
       "10                   0                   0                   0         0   \n",
       "\n",
       "    Akshaya Nagar  Ambalipura  Ambedkar Nagar  Ardendale  Attibele  \\\n",
       "8               0           0               0          0         0   \n",
       "9               0           0               0          0         0   \n",
       "10              0           0               0          0         0   \n",
       "\n",
       "    BTM 2nd Stage  ...  Thubarahalli  Tumkur Road  Uttarahalli  Varthur  \\\n",
       "8               0  ...             0            0            0        0   \n",
       "9               0  ...             0            0            0        0   \n",
       "10              0  ...             0            0            0        0   \n",
       "\n",
       "    Vijayanagar  Vittasandra  Whitefield  Yelahanka  Yelahanka New Town  \\\n",
       "8             0            0           0          0                   0   \n",
       "9             0            0           0          0                   0   \n",
       "10            0            0           0          0                   0   \n",
       "\n",
       "    Yeshwanthpur  \n",
       "8              0  \n",
       "9              0  \n",
       "10             0  \n",
       "\n",
       "[3 rows x 111 columns]"
      ]
     },
     "execution_count": 25,
     "metadata": {},
     "output_type": "execute_result"
    }
   ],
   "source": [
    "## performing One hot encoding on the Categorical values\n",
    "## 1st step. create dummies\n",
    "dummies = pd.get_dummies(home.location)\n",
    "dummies.head(3)"
   ]
  },
  {
   "cell_type": "code",
   "execution_count": 26,
   "metadata": {
    "execution": {
     "iopub.execute_input": "2020-09-22T09:17:59.674888Z",
     "iopub.status.busy": "2020-09-22T09:17:59.674058Z",
     "iopub.status.idle": "2020-09-22T09:17:59.709892Z",
     "shell.execute_reply": "2020-09-22T09:17:59.709204Z"
    },
    "papermill": {
     "duration": 0.082448,
     "end_time": "2020-09-22T09:17:59.710009",
     "exception": false,
     "start_time": "2020-09-22T09:17:59.627561",
     "status": "completed"
    },
    "tags": []
   },
   "outputs": [
    {
     "data": {
      "text/html": [
       "<div>\n",
       "<style scoped>\n",
       "    .dataframe tbody tr th:only-of-type {\n",
       "        vertical-align: middle;\n",
       "    }\n",
       "\n",
       "    .dataframe tbody tr th {\n",
       "        vertical-align: top;\n",
       "    }\n",
       "\n",
       "    .dataframe thead th {\n",
       "        text-align: right;\n",
       "    }\n",
       "</style>\n",
       "<table border=\"1\" class=\"dataframe\">\n",
       "  <thead>\n",
       "    <tr style=\"text-align: right;\">\n",
       "      <th></th>\n",
       "      <th>total_sqft</th>\n",
       "      <th>bath</th>\n",
       "      <th>price</th>\n",
       "      <th>bhk</th>\n",
       "      <th>7th Phase JP Nagar</th>\n",
       "      <th>8th Phase JP Nagar</th>\n",
       "      <th>9th Phase JP Nagar</th>\n",
       "      <th>Abbigere</th>\n",
       "      <th>Akshaya Nagar</th>\n",
       "      <th>Ambalipura</th>\n",
       "      <th>...</th>\n",
       "      <th>Thubarahalli</th>\n",
       "      <th>Tumkur Road</th>\n",
       "      <th>Uttarahalli</th>\n",
       "      <th>Varthur</th>\n",
       "      <th>Vijayanagar</th>\n",
       "      <th>Vittasandra</th>\n",
       "      <th>Whitefield</th>\n",
       "      <th>Yelahanka</th>\n",
       "      <th>Yelahanka New Town</th>\n",
       "      <th>Yeshwanthpur</th>\n",
       "    </tr>\n",
       "  </thead>\n",
       "  <tbody>\n",
       "    <tr>\n",
       "      <th>8</th>\n",
       "      <td>550.0</td>\n",
       "      <td>1.0</td>\n",
       "      <td>27.00</td>\n",
       "      <td>1</td>\n",
       "      <td>0</td>\n",
       "      <td>0</td>\n",
       "      <td>0</td>\n",
       "      <td>0</td>\n",
       "      <td>0</td>\n",
       "      <td>0</td>\n",
       "      <td>...</td>\n",
       "      <td>0</td>\n",
       "      <td>0</td>\n",
       "      <td>0</td>\n",
       "      <td>0</td>\n",
       "      <td>0</td>\n",
       "      <td>0</td>\n",
       "      <td>0</td>\n",
       "      <td>0</td>\n",
       "      <td>0</td>\n",
       "      <td>0</td>\n",
       "    </tr>\n",
       "    <tr>\n",
       "      <th>9</th>\n",
       "      <td>440.0</td>\n",
       "      <td>1.0</td>\n",
       "      <td>28.00</td>\n",
       "      <td>1</td>\n",
       "      <td>0</td>\n",
       "      <td>0</td>\n",
       "      <td>0</td>\n",
       "      <td>0</td>\n",
       "      <td>0</td>\n",
       "      <td>0</td>\n",
       "      <td>...</td>\n",
       "      <td>0</td>\n",
       "      <td>0</td>\n",
       "      <td>0</td>\n",
       "      <td>0</td>\n",
       "      <td>0</td>\n",
       "      <td>0</td>\n",
       "      <td>0</td>\n",
       "      <td>0</td>\n",
       "      <td>0</td>\n",
       "      <td>0</td>\n",
       "    </tr>\n",
       "    <tr>\n",
       "      <th>10</th>\n",
       "      <td>510.0</td>\n",
       "      <td>1.0</td>\n",
       "      <td>25.25</td>\n",
       "      <td>1</td>\n",
       "      <td>0</td>\n",
       "      <td>0</td>\n",
       "      <td>0</td>\n",
       "      <td>0</td>\n",
       "      <td>0</td>\n",
       "      <td>0</td>\n",
       "      <td>...</td>\n",
       "      <td>0</td>\n",
       "      <td>0</td>\n",
       "      <td>0</td>\n",
       "      <td>0</td>\n",
       "      <td>0</td>\n",
       "      <td>0</td>\n",
       "      <td>0</td>\n",
       "      <td>0</td>\n",
       "      <td>0</td>\n",
       "      <td>0</td>\n",
       "    </tr>\n",
       "    <tr>\n",
       "      <th>11</th>\n",
       "      <td>510.0</td>\n",
       "      <td>1.0</td>\n",
       "      <td>25.25</td>\n",
       "      <td>1</td>\n",
       "      <td>0</td>\n",
       "      <td>0</td>\n",
       "      <td>0</td>\n",
       "      <td>0</td>\n",
       "      <td>0</td>\n",
       "      <td>0</td>\n",
       "      <td>...</td>\n",
       "      <td>0</td>\n",
       "      <td>0</td>\n",
       "      <td>0</td>\n",
       "      <td>0</td>\n",
       "      <td>0</td>\n",
       "      <td>0</td>\n",
       "      <td>0</td>\n",
       "      <td>0</td>\n",
       "      <td>0</td>\n",
       "      <td>0</td>\n",
       "    </tr>\n",
       "    <tr>\n",
       "      <th>44</th>\n",
       "      <td>1080.0</td>\n",
       "      <td>2.0</td>\n",
       "      <td>72.00</td>\n",
       "      <td>2</td>\n",
       "      <td>1</td>\n",
       "      <td>0</td>\n",
       "      <td>0</td>\n",
       "      <td>0</td>\n",
       "      <td>0</td>\n",
       "      <td>0</td>\n",
       "      <td>...</td>\n",
       "      <td>0</td>\n",
       "      <td>0</td>\n",
       "      <td>0</td>\n",
       "      <td>0</td>\n",
       "      <td>0</td>\n",
       "      <td>0</td>\n",
       "      <td>0</td>\n",
       "      <td>0</td>\n",
       "      <td>0</td>\n",
       "      <td>0</td>\n",
       "    </tr>\n",
       "    <tr>\n",
       "      <th>...</th>\n",
       "      <td>...</td>\n",
       "      <td>...</td>\n",
       "      <td>...</td>\n",
       "      <td>...</td>\n",
       "      <td>...</td>\n",
       "      <td>...</td>\n",
       "      <td>...</td>\n",
       "      <td>...</td>\n",
       "      <td>...</td>\n",
       "      <td>...</td>\n",
       "      <td>...</td>\n",
       "      <td>...</td>\n",
       "      <td>...</td>\n",
       "      <td>...</td>\n",
       "      <td>...</td>\n",
       "      <td>...</td>\n",
       "      <td>...</td>\n",
       "      <td>...</td>\n",
       "      <td>...</td>\n",
       "      <td>...</td>\n",
       "      <td>...</td>\n",
       "    </tr>\n",
       "    <tr>\n",
       "      <th>5384</th>\n",
       "      <td>1169.0</td>\n",
       "      <td>2.0</td>\n",
       "      <td>64.08</td>\n",
       "      <td>2</td>\n",
       "      <td>0</td>\n",
       "      <td>0</td>\n",
       "      <td>0</td>\n",
       "      <td>0</td>\n",
       "      <td>0</td>\n",
       "      <td>0</td>\n",
       "      <td>...</td>\n",
       "      <td>0</td>\n",
       "      <td>0</td>\n",
       "      <td>0</td>\n",
       "      <td>0</td>\n",
       "      <td>0</td>\n",
       "      <td>0</td>\n",
       "      <td>0</td>\n",
       "      <td>0</td>\n",
       "      <td>0</td>\n",
       "      <td>1</td>\n",
       "    </tr>\n",
       "    <tr>\n",
       "      <th>5385</th>\n",
       "      <td>2500.0</td>\n",
       "      <td>3.0</td>\n",
       "      <td>138.00</td>\n",
       "      <td>3</td>\n",
       "      <td>0</td>\n",
       "      <td>0</td>\n",
       "      <td>0</td>\n",
       "      <td>0</td>\n",
       "      <td>0</td>\n",
       "      <td>0</td>\n",
       "      <td>...</td>\n",
       "      <td>0</td>\n",
       "      <td>0</td>\n",
       "      <td>0</td>\n",
       "      <td>0</td>\n",
       "      <td>0</td>\n",
       "      <td>0</td>\n",
       "      <td>0</td>\n",
       "      <td>0</td>\n",
       "      <td>0</td>\n",
       "      <td>1</td>\n",
       "    </tr>\n",
       "    <tr>\n",
       "      <th>5386</th>\n",
       "      <td>1160.0</td>\n",
       "      <td>2.0</td>\n",
       "      <td>64.08</td>\n",
       "      <td>2</td>\n",
       "      <td>0</td>\n",
       "      <td>0</td>\n",
       "      <td>0</td>\n",
       "      <td>0</td>\n",
       "      <td>0</td>\n",
       "      <td>0</td>\n",
       "      <td>...</td>\n",
       "      <td>0</td>\n",
       "      <td>0</td>\n",
       "      <td>0</td>\n",
       "      <td>0</td>\n",
       "      <td>0</td>\n",
       "      <td>0</td>\n",
       "      <td>0</td>\n",
       "      <td>0</td>\n",
       "      <td>0</td>\n",
       "      <td>1</td>\n",
       "    </tr>\n",
       "    <tr>\n",
       "      <th>5387</th>\n",
       "      <td>2503.0</td>\n",
       "      <td>3.0</td>\n",
       "      <td>138.00</td>\n",
       "      <td>3</td>\n",
       "      <td>0</td>\n",
       "      <td>0</td>\n",
       "      <td>0</td>\n",
       "      <td>0</td>\n",
       "      <td>0</td>\n",
       "      <td>0</td>\n",
       "      <td>...</td>\n",
       "      <td>0</td>\n",
       "      <td>0</td>\n",
       "      <td>0</td>\n",
       "      <td>0</td>\n",
       "      <td>0</td>\n",
       "      <td>0</td>\n",
       "      <td>0</td>\n",
       "      <td>0</td>\n",
       "      <td>0</td>\n",
       "      <td>1</td>\n",
       "    </tr>\n",
       "    <tr>\n",
       "      <th>5388</th>\n",
       "      <td>1855.0</td>\n",
       "      <td>3.0</td>\n",
       "      <td>135.00</td>\n",
       "      <td>3</td>\n",
       "      <td>0</td>\n",
       "      <td>0</td>\n",
       "      <td>0</td>\n",
       "      <td>0</td>\n",
       "      <td>0</td>\n",
       "      <td>0</td>\n",
       "      <td>...</td>\n",
       "      <td>0</td>\n",
       "      <td>0</td>\n",
       "      <td>0</td>\n",
       "      <td>0</td>\n",
       "      <td>0</td>\n",
       "      <td>0</td>\n",
       "      <td>0</td>\n",
       "      <td>0</td>\n",
       "      <td>0</td>\n",
       "      <td>1</td>\n",
       "    </tr>\n",
       "  </tbody>\n",
       "</table>\n",
       "<p>4303 rows × 115 columns</p>\n",
       "</div>"
      ],
      "text/plain": [
       "      total_sqft  bath   price  bhk  7th Phase JP Nagar  8th Phase JP Nagar  \\\n",
       "8          550.0   1.0   27.00    1                   0                   0   \n",
       "9          440.0   1.0   28.00    1                   0                   0   \n",
       "10         510.0   1.0   25.25    1                   0                   0   \n",
       "11         510.0   1.0   25.25    1                   0                   0   \n",
       "44        1080.0   2.0   72.00    2                   1                   0   \n",
       "...          ...   ...     ...  ...                 ...                 ...   \n",
       "5384      1169.0   2.0   64.08    2                   0                   0   \n",
       "5385      2500.0   3.0  138.00    3                   0                   0   \n",
       "5386      1160.0   2.0   64.08    2                   0                   0   \n",
       "5387      2503.0   3.0  138.00    3                   0                   0   \n",
       "5388      1855.0   3.0  135.00    3                   0                   0   \n",
       "\n",
       "      9th Phase JP Nagar  Abbigere  Akshaya Nagar  Ambalipura  ...  \\\n",
       "8                      0         0              0           0  ...   \n",
       "9                      0         0              0           0  ...   \n",
       "10                     0         0              0           0  ...   \n",
       "11                     0         0              0           0  ...   \n",
       "44                     0         0              0           0  ...   \n",
       "...                  ...       ...            ...         ...  ...   \n",
       "5384                   0         0              0           0  ...   \n",
       "5385                   0         0              0           0  ...   \n",
       "5386                   0         0              0           0  ...   \n",
       "5387                   0         0              0           0  ...   \n",
       "5388                   0         0              0           0  ...   \n",
       "\n",
       "      Thubarahalli  Tumkur Road  Uttarahalli  Varthur  Vijayanagar  \\\n",
       "8                0            0            0        0            0   \n",
       "9                0            0            0        0            0   \n",
       "10               0            0            0        0            0   \n",
       "11               0            0            0        0            0   \n",
       "44               0            0            0        0            0   \n",
       "...            ...          ...          ...      ...          ...   \n",
       "5384             0            0            0        0            0   \n",
       "5385             0            0            0        0            0   \n",
       "5386             0            0            0        0            0   \n",
       "5387             0            0            0        0            0   \n",
       "5388             0            0            0        0            0   \n",
       "\n",
       "      Vittasandra  Whitefield  Yelahanka  Yelahanka New Town  Yeshwanthpur  \n",
       "8               0           0          0                   0             0  \n",
       "9               0           0          0                   0             0  \n",
       "10              0           0          0                   0             0  \n",
       "11              0           0          0                   0             0  \n",
       "44              0           0          0                   0             0  \n",
       "...           ...         ...        ...                 ...           ...  \n",
       "5384            0           0          0                   0             1  \n",
       "5385            0           0          0                   0             1  \n",
       "5386            0           0          0                   0             1  \n",
       "5387            0           0          0                   0             1  \n",
       "5388            0           0          0                   0             1  \n",
       "\n",
       "[4303 rows x 115 columns]"
      ]
     },
     "execution_count": 26,
     "metadata": {},
     "output_type": "execute_result"
    }
   ],
   "source": [
    "## adding the dummies dataframe to our main DataFrame\n",
    "\n",
    "home = pd.concat([home,dummies],axis='columns')\n",
    "\n",
    "## removing 'location' as we have already created the dummies\n",
    "home1 = home.drop('location',axis = 1)\n",
    "\n",
    "## removing columns which will not be required by our model\n",
    "home1 = home1.drop(columns=['balcony','price_per_sqft'])\n",
    "home1"
   ]
  },
  {
   "cell_type": "code",
   "execution_count": 27,
   "metadata": {
    "execution": {
     "iopub.execute_input": "2020-09-22T09:17:59.807683Z",
     "iopub.status.busy": "2020-09-22T09:17:59.792084Z",
     "iopub.status.idle": "2020-09-22T09:17:59.827811Z",
     "shell.execute_reply": "2020-09-22T09:17:59.827127Z"
    },
    "papermill": {
     "duration": 0.079976,
     "end_time": "2020-09-22T09:17:59.827969",
     "exception": false,
     "start_time": "2020-09-22T09:17:59.747993",
     "status": "completed"
    },
    "tags": []
   },
   "outputs": [
    {
     "data": {
      "text/html": [
       "<div>\n",
       "<style scoped>\n",
       "    .dataframe tbody tr th:only-of-type {\n",
       "        vertical-align: middle;\n",
       "    }\n",
       "\n",
       "    .dataframe tbody tr th {\n",
       "        vertical-align: top;\n",
       "    }\n",
       "\n",
       "    .dataframe thead th {\n",
       "        text-align: right;\n",
       "    }\n",
       "</style>\n",
       "<table border=\"1\" class=\"dataframe\">\n",
       "  <thead>\n",
       "    <tr style=\"text-align: right;\">\n",
       "      <th></th>\n",
       "      <th>total_sqft</th>\n",
       "      <th>bath</th>\n",
       "      <th>price</th>\n",
       "      <th>bhk</th>\n",
       "      <th>7th Phase JP Nagar</th>\n",
       "      <th>8th Phase JP Nagar</th>\n",
       "      <th>9th Phase JP Nagar</th>\n",
       "      <th>Abbigere</th>\n",
       "      <th>Akshaya Nagar</th>\n",
       "      <th>Ambalipura</th>\n",
       "      <th>...</th>\n",
       "      <th>Thubarahalli</th>\n",
       "      <th>Tumkur Road</th>\n",
       "      <th>Uttarahalli</th>\n",
       "      <th>Varthur</th>\n",
       "      <th>Vijayanagar</th>\n",
       "      <th>Vittasandra</th>\n",
       "      <th>Whitefield</th>\n",
       "      <th>Yelahanka</th>\n",
       "      <th>Yelahanka New Town</th>\n",
       "      <th>Yeshwanthpur</th>\n",
       "    </tr>\n",
       "  </thead>\n",
       "  <tbody>\n",
       "    <tr>\n",
       "      <th>0</th>\n",
       "      <td>550.0</td>\n",
       "      <td>1.0</td>\n",
       "      <td>27.00</td>\n",
       "      <td>1</td>\n",
       "      <td>0</td>\n",
       "      <td>0</td>\n",
       "      <td>0</td>\n",
       "      <td>0</td>\n",
       "      <td>0</td>\n",
       "      <td>0</td>\n",
       "      <td>...</td>\n",
       "      <td>0</td>\n",
       "      <td>0</td>\n",
       "      <td>0</td>\n",
       "      <td>0</td>\n",
       "      <td>0</td>\n",
       "      <td>0</td>\n",
       "      <td>0</td>\n",
       "      <td>0</td>\n",
       "      <td>0</td>\n",
       "      <td>0</td>\n",
       "    </tr>\n",
       "    <tr>\n",
       "      <th>1</th>\n",
       "      <td>440.0</td>\n",
       "      <td>1.0</td>\n",
       "      <td>28.00</td>\n",
       "      <td>1</td>\n",
       "      <td>0</td>\n",
       "      <td>0</td>\n",
       "      <td>0</td>\n",
       "      <td>0</td>\n",
       "      <td>0</td>\n",
       "      <td>0</td>\n",
       "      <td>...</td>\n",
       "      <td>0</td>\n",
       "      <td>0</td>\n",
       "      <td>0</td>\n",
       "      <td>0</td>\n",
       "      <td>0</td>\n",
       "      <td>0</td>\n",
       "      <td>0</td>\n",
       "      <td>0</td>\n",
       "      <td>0</td>\n",
       "      <td>0</td>\n",
       "    </tr>\n",
       "    <tr>\n",
       "      <th>2</th>\n",
       "      <td>510.0</td>\n",
       "      <td>1.0</td>\n",
       "      <td>25.25</td>\n",
       "      <td>1</td>\n",
       "      <td>0</td>\n",
       "      <td>0</td>\n",
       "      <td>0</td>\n",
       "      <td>0</td>\n",
       "      <td>0</td>\n",
       "      <td>0</td>\n",
       "      <td>...</td>\n",
       "      <td>0</td>\n",
       "      <td>0</td>\n",
       "      <td>0</td>\n",
       "      <td>0</td>\n",
       "      <td>0</td>\n",
       "      <td>0</td>\n",
       "      <td>0</td>\n",
       "      <td>0</td>\n",
       "      <td>0</td>\n",
       "      <td>0</td>\n",
       "    </tr>\n",
       "    <tr>\n",
       "      <th>3</th>\n",
       "      <td>510.0</td>\n",
       "      <td>1.0</td>\n",
       "      <td>25.25</td>\n",
       "      <td>1</td>\n",
       "      <td>0</td>\n",
       "      <td>0</td>\n",
       "      <td>0</td>\n",
       "      <td>0</td>\n",
       "      <td>0</td>\n",
       "      <td>0</td>\n",
       "      <td>...</td>\n",
       "      <td>0</td>\n",
       "      <td>0</td>\n",
       "      <td>0</td>\n",
       "      <td>0</td>\n",
       "      <td>0</td>\n",
       "      <td>0</td>\n",
       "      <td>0</td>\n",
       "      <td>0</td>\n",
       "      <td>0</td>\n",
       "      <td>0</td>\n",
       "    </tr>\n",
       "    <tr>\n",
       "      <th>4</th>\n",
       "      <td>1080.0</td>\n",
       "      <td>2.0</td>\n",
       "      <td>72.00</td>\n",
       "      <td>2</td>\n",
       "      <td>1</td>\n",
       "      <td>0</td>\n",
       "      <td>0</td>\n",
       "      <td>0</td>\n",
       "      <td>0</td>\n",
       "      <td>0</td>\n",
       "      <td>...</td>\n",
       "      <td>0</td>\n",
       "      <td>0</td>\n",
       "      <td>0</td>\n",
       "      <td>0</td>\n",
       "      <td>0</td>\n",
       "      <td>0</td>\n",
       "      <td>0</td>\n",
       "      <td>0</td>\n",
       "      <td>0</td>\n",
       "      <td>0</td>\n",
       "    </tr>\n",
       "    <tr>\n",
       "      <th>...</th>\n",
       "      <td>...</td>\n",
       "      <td>...</td>\n",
       "      <td>...</td>\n",
       "      <td>...</td>\n",
       "      <td>...</td>\n",
       "      <td>...</td>\n",
       "      <td>...</td>\n",
       "      <td>...</td>\n",
       "      <td>...</td>\n",
       "      <td>...</td>\n",
       "      <td>...</td>\n",
       "      <td>...</td>\n",
       "      <td>...</td>\n",
       "      <td>...</td>\n",
       "      <td>...</td>\n",
       "      <td>...</td>\n",
       "      <td>...</td>\n",
       "      <td>...</td>\n",
       "      <td>...</td>\n",
       "      <td>...</td>\n",
       "      <td>...</td>\n",
       "    </tr>\n",
       "    <tr>\n",
       "      <th>4298</th>\n",
       "      <td>1169.0</td>\n",
       "      <td>2.0</td>\n",
       "      <td>64.08</td>\n",
       "      <td>2</td>\n",
       "      <td>0</td>\n",
       "      <td>0</td>\n",
       "      <td>0</td>\n",
       "      <td>0</td>\n",
       "      <td>0</td>\n",
       "      <td>0</td>\n",
       "      <td>...</td>\n",
       "      <td>0</td>\n",
       "      <td>0</td>\n",
       "      <td>0</td>\n",
       "      <td>0</td>\n",
       "      <td>0</td>\n",
       "      <td>0</td>\n",
       "      <td>0</td>\n",
       "      <td>0</td>\n",
       "      <td>0</td>\n",
       "      <td>1</td>\n",
       "    </tr>\n",
       "    <tr>\n",
       "      <th>4299</th>\n",
       "      <td>2500.0</td>\n",
       "      <td>3.0</td>\n",
       "      <td>138.00</td>\n",
       "      <td>3</td>\n",
       "      <td>0</td>\n",
       "      <td>0</td>\n",
       "      <td>0</td>\n",
       "      <td>0</td>\n",
       "      <td>0</td>\n",
       "      <td>0</td>\n",
       "      <td>...</td>\n",
       "      <td>0</td>\n",
       "      <td>0</td>\n",
       "      <td>0</td>\n",
       "      <td>0</td>\n",
       "      <td>0</td>\n",
       "      <td>0</td>\n",
       "      <td>0</td>\n",
       "      <td>0</td>\n",
       "      <td>0</td>\n",
       "      <td>1</td>\n",
       "    </tr>\n",
       "    <tr>\n",
       "      <th>4300</th>\n",
       "      <td>1160.0</td>\n",
       "      <td>2.0</td>\n",
       "      <td>64.08</td>\n",
       "      <td>2</td>\n",
       "      <td>0</td>\n",
       "      <td>0</td>\n",
       "      <td>0</td>\n",
       "      <td>0</td>\n",
       "      <td>0</td>\n",
       "      <td>0</td>\n",
       "      <td>...</td>\n",
       "      <td>0</td>\n",
       "      <td>0</td>\n",
       "      <td>0</td>\n",
       "      <td>0</td>\n",
       "      <td>0</td>\n",
       "      <td>0</td>\n",
       "      <td>0</td>\n",
       "      <td>0</td>\n",
       "      <td>0</td>\n",
       "      <td>1</td>\n",
       "    </tr>\n",
       "    <tr>\n",
       "      <th>4301</th>\n",
       "      <td>2503.0</td>\n",
       "      <td>3.0</td>\n",
       "      <td>138.00</td>\n",
       "      <td>3</td>\n",
       "      <td>0</td>\n",
       "      <td>0</td>\n",
       "      <td>0</td>\n",
       "      <td>0</td>\n",
       "      <td>0</td>\n",
       "      <td>0</td>\n",
       "      <td>...</td>\n",
       "      <td>0</td>\n",
       "      <td>0</td>\n",
       "      <td>0</td>\n",
       "      <td>0</td>\n",
       "      <td>0</td>\n",
       "      <td>0</td>\n",
       "      <td>0</td>\n",
       "      <td>0</td>\n",
       "      <td>0</td>\n",
       "      <td>1</td>\n",
       "    </tr>\n",
       "    <tr>\n",
       "      <th>4302</th>\n",
       "      <td>1855.0</td>\n",
       "      <td>3.0</td>\n",
       "      <td>135.00</td>\n",
       "      <td>3</td>\n",
       "      <td>0</td>\n",
       "      <td>0</td>\n",
       "      <td>0</td>\n",
       "      <td>0</td>\n",
       "      <td>0</td>\n",
       "      <td>0</td>\n",
       "      <td>...</td>\n",
       "      <td>0</td>\n",
       "      <td>0</td>\n",
       "      <td>0</td>\n",
       "      <td>0</td>\n",
       "      <td>0</td>\n",
       "      <td>0</td>\n",
       "      <td>0</td>\n",
       "      <td>0</td>\n",
       "      <td>0</td>\n",
       "      <td>1</td>\n",
       "    </tr>\n",
       "  </tbody>\n",
       "</table>\n",
       "<p>4303 rows × 115 columns</p>\n",
       "</div>"
      ],
      "text/plain": [
       "      total_sqft  bath   price  bhk  7th Phase JP Nagar  8th Phase JP Nagar  \\\n",
       "0          550.0   1.0   27.00    1                   0                   0   \n",
       "1          440.0   1.0   28.00    1                   0                   0   \n",
       "2          510.0   1.0   25.25    1                   0                   0   \n",
       "3          510.0   1.0   25.25    1                   0                   0   \n",
       "4         1080.0   2.0   72.00    2                   1                   0   \n",
       "...          ...   ...     ...  ...                 ...                 ...   \n",
       "4298      1169.0   2.0   64.08    2                   0                   0   \n",
       "4299      2500.0   3.0  138.00    3                   0                   0   \n",
       "4300      1160.0   2.0   64.08    2                   0                   0   \n",
       "4301      2503.0   3.0  138.00    3                   0                   0   \n",
       "4302      1855.0   3.0  135.00    3                   0                   0   \n",
       "\n",
       "      9th Phase JP Nagar  Abbigere  Akshaya Nagar  Ambalipura  ...  \\\n",
       "0                      0         0              0           0  ...   \n",
       "1                      0         0              0           0  ...   \n",
       "2                      0         0              0           0  ...   \n",
       "3                      0         0              0           0  ...   \n",
       "4                      0         0              0           0  ...   \n",
       "...                  ...       ...            ...         ...  ...   \n",
       "4298                   0         0              0           0  ...   \n",
       "4299                   0         0              0           0  ...   \n",
       "4300                   0         0              0           0  ...   \n",
       "4301                   0         0              0           0  ...   \n",
       "4302                   0         0              0           0  ...   \n",
       "\n",
       "      Thubarahalli  Tumkur Road  Uttarahalli  Varthur  Vijayanagar  \\\n",
       "0                0            0            0        0            0   \n",
       "1                0            0            0        0            0   \n",
       "2                0            0            0        0            0   \n",
       "3                0            0            0        0            0   \n",
       "4                0            0            0        0            0   \n",
       "...            ...          ...          ...      ...          ...   \n",
       "4298             0            0            0        0            0   \n",
       "4299             0            0            0        0            0   \n",
       "4300             0            0            0        0            0   \n",
       "4301             0            0            0        0            0   \n",
       "4302             0            0            0        0            0   \n",
       "\n",
       "      Vittasandra  Whitefield  Yelahanka  Yelahanka New Town  Yeshwanthpur  \n",
       "0               0           0          0                   0             0  \n",
       "1               0           0          0                   0             0  \n",
       "2               0           0          0                   0             0  \n",
       "3               0           0          0                   0             0  \n",
       "4               0           0          0                   0             0  \n",
       "...           ...         ...        ...                 ...           ...  \n",
       "4298            0           0          0                   0             1  \n",
       "4299            0           0          0                   0             1  \n",
       "4300            0           0          0                   0             1  \n",
       "4301            0           0          0                   0             1  \n",
       "4302            0           0          0                   0             1  \n",
       "\n",
       "[4303 rows x 115 columns]"
      ]
     },
     "execution_count": 27,
     "metadata": {},
     "output_type": "execute_result"
    }
   ],
   "source": [
    "home1.reset_index(drop = True)"
   ]
  },
  {
   "cell_type": "code",
   "execution_count": 28,
   "metadata": {
    "execution": {
     "iopub.execute_input": "2020-09-22T09:17:59.916743Z",
     "iopub.status.busy": "2020-09-22T09:17:59.916062Z",
     "iopub.status.idle": "2020-09-22T09:17:59.923513Z",
     "shell.execute_reply": "2020-09-22T09:17:59.922969Z"
    },
    "papermill": {
     "duration": 0.052821,
     "end_time": "2020-09-22T09:17:59.923667",
     "exception": false,
     "start_time": "2020-09-22T09:17:59.870846",
     "status": "completed"
    },
    "tags": []
   },
   "outputs": [],
   "source": [
    "## Dividing our dataset to Independent and Dependent Variables\n",
    "\n",
    "X = home1.drop('price',axis = 1).values ## Independent Variables\n",
    "y = home1.price.values ## Dependent Variables"
   ]
  },
  {
   "cell_type": "code",
   "execution_count": 29,
   "metadata": {
    "execution": {
     "iopub.execute_input": "2020-09-22T09:18:00.011706Z",
     "iopub.status.busy": "2020-09-22T09:18:00.010669Z",
     "iopub.status.idle": "2020-09-22T09:18:00.013873Z",
     "shell.execute_reply": "2020-09-22T09:18:00.013307Z"
    },
    "papermill": {
     "duration": 0.052146,
     "end_time": "2020-09-22T09:18:00.014000",
     "exception": false,
     "start_time": "2020-09-22T09:17:59.961854",
     "status": "completed"
    },
    "tags": []
   },
   "outputs": [],
   "source": [
    "## adding a new axis\n",
    "y = y[:,np.newaxis]"
   ]
  },
  {
   "cell_type": "markdown",
   "metadata": {
    "papermill": {
     "duration": 0.039404,
     "end_time": "2020-09-22T09:18:00.092035",
     "exception": false,
     "start_time": "2020-09-22T09:18:00.052631",
     "status": "completed"
    },
    "tags": []
   },
   "source": [
    "### Standardize features by removing the mean and scaling to unit variance\n",
    "\n",
    "#### The standard score of a sample x is calculated as:\n",
    "\n",
    "**z = (x - u) / s**\n",
    "\n",
    "- where u is the mean of the training samples or zero if with_mean=False, and s is the standard deviation of the training samples or one if with_std=False.\n",
    "\n"
   ]
  },
  {
   "cell_type": "code",
   "execution_count": 30,
   "metadata": {
    "execution": {
     "iopub.execute_input": "2020-09-22T09:18:00.182538Z",
     "iopub.status.busy": "2020-09-22T09:18:00.181378Z",
     "iopub.status.idle": "2020-09-22T09:18:00.202180Z",
     "shell.execute_reply": "2020-09-22T09:18:00.200454Z"
    },
    "papermill": {
     "duration": 0.065944,
     "end_time": "2020-09-22T09:18:00.202318",
     "exception": false,
     "start_time": "2020-09-22T09:18:00.136374",
     "status": "completed"
    },
    "tags": []
   },
   "outputs": [],
   "source": [
    "## preprocessing the data values to StandardScaler\n",
    "sc = preprocessing.StandardScaler()\n",
    "X1 = sc.fit_transform(X)\n"
   ]
  },
  {
   "cell_type": "code",
   "execution_count": 31,
   "metadata": {
    "execution": {
     "iopub.execute_input": "2020-09-22T09:18:00.288087Z",
     "iopub.status.busy": "2020-09-22T09:18:00.286735Z",
     "iopub.status.idle": "2020-09-22T09:18:00.309018Z",
     "shell.execute_reply": "2020-09-22T09:18:00.309669Z"
    },
    "papermill": {
     "duration": 0.068911,
     "end_time": "2020-09-22T09:18:00.309846",
     "exception": false,
     "start_time": "2020-09-22T09:18:00.240935",
     "status": "completed"
    },
    "tags": []
   },
   "outputs": [],
   "source": [
    "## Standardize a dataset along any axis\n",
    "\n",
    "## Center to the mean and component wise scale to unit variance.\n",
    "\n",
    "Std_x1 = preprocessing.scale(X)"
   ]
  },
  {
   "cell_type": "markdown",
   "metadata": {
    "papermill": {
     "duration": 0.044182,
     "end_time": "2020-09-22T09:18:00.394283",
     "exception": false,
     "start_time": "2020-09-22T09:18:00.350101",
     "status": "completed"
    },
    "tags": []
   },
   "source": [
    "## Machine Learning Part"
   ]
  },
  {
   "cell_type": "code",
   "execution_count": 32,
   "metadata": {
    "execution": {
     "iopub.execute_input": "2020-09-22T09:18:00.482244Z",
     "iopub.status.busy": "2020-09-22T09:18:00.481201Z",
     "iopub.status.idle": "2020-09-22T09:18:00.581218Z",
     "shell.execute_reply": "2020-09-22T09:18:00.580437Z"
    },
    "papermill": {
     "duration": 0.142831,
     "end_time": "2020-09-22T09:18:00.581345",
     "exception": false,
     "start_time": "2020-09-22T09:18:00.438514",
     "status": "completed"
    },
    "tags": []
   },
   "outputs": [],
   "source": [
    "# from the model selection module import train_test_split for the ML training and testing.\n",
    "from sklearn.model_selection import train_test_split\n",
    "X_train, X_test, y_train, y_test = train_test_split(X1,y,test_size=0.3,random_state=10)"
   ]
  },
  {
   "cell_type": "code",
   "execution_count": 33,
   "metadata": {
    "execution": {
     "iopub.execute_input": "2020-09-22T09:18:00.996062Z",
     "iopub.status.busy": "2020-09-22T09:18:00.994934Z",
     "iopub.status.idle": "2020-09-22T09:18:01.004069Z",
     "shell.execute_reply": "2020-09-22T09:18:01.004753Z"
    },
    "papermill": {
     "duration": 0.053664,
     "end_time": "2020-09-22T09:18:01.004917",
     "exception": false,
     "start_time": "2020-09-22T09:18:00.951253",
     "status": "completed"
    },
    "tags": []
   },
   "outputs": [],
   "source": [
    "## importing the required libraries for Machine Learning\n",
    "\n",
    "from sklearn.model_selection import cross_val_score,cross_val_predict\n",
    "from sklearn.linear_model import LinearRegression\n",
    "lr = LinearRegression()"
   ]
  },
  {
   "cell_type": "code",
   "execution_count": 34,
   "metadata": {
    "execution": {
     "iopub.execute_input": "2020-09-22T09:18:01.098168Z",
     "iopub.status.busy": "2020-09-22T09:18:01.096372Z",
     "iopub.status.idle": "2020-09-22T09:18:01.113401Z",
     "shell.execute_reply": "2020-09-22T09:18:01.114077Z"
    },
    "papermill": {
     "duration": 0.068276,
     "end_time": "2020-09-22T09:18:01.114261",
     "exception": false,
     "start_time": "2020-09-22T09:18:01.045985",
     "status": "completed"
    },
    "tags": []
   },
   "outputs": [
    {
     "name": "stdout",
     "output_type": "stream",
     "text": [
      "Accuracy with Linear regression : 0.8995320160983539\n"
     ]
    }
   ],
   "source": [
    "from sklearn.linear_model import LinearRegression\n",
    "from sklearn.metrics import mean_squared_error,r2_score\n",
    "lr.fit(X_train,y_train)\n",
    "y_pred = lr.predict(X_test)\n",
    "acc = mean_squared_error(y_pred,y_test)\n",
    "rscore = r2_score(y_pred,y_test)\n",
    "print(f'Accuracy with Linear regression : {rscore}')"
   ]
  },
  {
   "cell_type": "code",
   "execution_count": 35,
   "metadata": {},
   "outputs": [
    {
     "name": "stdout",
     "output_type": "stream",
     "text": [
      "Accuracy with Lasso regression : 0.8608167697809426\n"
     ]
    }
   ],
   "source": [
    "from sklearn.linear_model import Lasso\n",
    "lasso_reg = Lasso()\n",
    "lasso_reg.fit(X_train,y_train)\n",
    "y_pred = lasso_reg.predict(X_test)\n",
    "acc = mean_squared_error(y_pred,y_test)\n",
    "rscore = r2_score(y_pred,y_test)\n",
    "print(f'Accuracy with Lasso regression : {rscore}')"
   ]
  },
  {
   "cell_type": "code",
   "execution_count": 36,
   "metadata": {},
   "outputs": [
    {
     "name": "stdout",
     "output_type": "stream",
     "text": [
      "Accuracy with Ridge regression : 0.8994713868000848\n"
     ]
    }
   ],
   "source": [
    "from sklearn.linear_model import Ridge\n",
    "Ridge_reg = Ridge()\n",
    "Ridge_reg.fit(X_train,y_train)\n",
    "y_pred = Ridge_reg.predict(X_test)\n",
    "acc = mean_squared_error(y_pred,y_test)\n",
    "rscore = r2_score(y_pred,y_test)\n",
    "print(f'Accuracy with Ridge regression : {rscore}')"
   ]
  },
  {
   "cell_type": "code",
   "execution_count": 37,
   "metadata": {},
   "outputs": [
    {
     "name": "stdout",
     "output_type": "stream",
     "text": [
      "Accuracy with Extreme Gradient Boosting regression : 0.9070356585958991\n"
     ]
    }
   ],
   "source": [
    "from xgboost import XGBRegressor\n",
    "xgb_reg = XGBRegressor()\n",
    "xgb_reg.fit(X_train,y_train)\n",
    "y_pred = xgb_reg.predict(X_test)\n",
    "acc = mean_squared_error(y_pred,y_test)\n",
    "rscore = r2_score(y_pred,y_test)\n",
    "print(f'Accuracy with Extreme Gradient Boosting regression : {rscore}')"
   ]
  },
  {
   "cell_type": "code",
   "execution_count": 40,
   "metadata": {},
   "outputs": [
    {
     "name": "stderr",
     "output_type": "stream",
     "text": [
      "c:\\users\\user\\appdata\\local\\programs\\python\\python36\\lib\\site-packages\\ipykernel_launcher.py:3: DataConversionWarning: A column-vector y was passed when a 1d array was expected. Please change the shape of y to (n_samples,), for example using ravel().\n",
      "  This is separate from the ipykernel package so we can avoid doing imports until\n"
     ]
    },
    {
     "name": "stdout",
     "output_type": "stream",
     "text": [
      "Accuracy with Random Forest Regressor regression : 0.8967576899712868\n"
     ]
    }
   ],
   "source": [
    "from sklearn.ensemble import RandomForestRegressor\n",
    "RF_reg = RandomForestRegressor()\n",
    "RF_reg.fit(X_train,y_train)\n",
    "y_pred = RF_reg.predict(X_test)\n",
    "acc = mean_squared_error(y_pred,y_test)\n",
    "rscore = r2_score(y_pred,y_test)\n",
    "print(f'Accuracy with Random Forest Regressor regression : {rscore}')"
   ]
  }
 ],
 "metadata": {
  "kernelspec": {
   "display_name": "Python 3",
   "language": "python",
   "name": "python3"
  },
  "language_info": {
   "codemirror_mode": {
    "name": "ipython",
    "version": 3
   },
   "file_extension": ".py",
   "mimetype": "text/x-python",
   "name": "python",
   "nbconvert_exporter": "python",
   "pygments_lexer": "ipython3",
   "version": "3.6.5"
  },
  "papermill": {
   "duration": 15.456721,
   "end_time": "2020-09-22T09:18:01.267701",
   "environment_variables": {},
   "exception": null,
   "input_path": "__notebook__.ipynb",
   "output_path": "__notebook__.ipynb",
   "parameters": {},
   "start_time": "2020-09-22T09:17:45.810980",
   "version": "2.1.0"
  }
 },
 "nbformat": 4,
 "nbformat_minor": 4
}
